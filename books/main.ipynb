{
  "cells": [
    {
      "cell_type": "markdown",
      "source": [
        "# Import data\n",
        "## Data Formatting as pandas dataframe"
      ],
      "metadata": {
        "id": "cXFWJ6vW1Ira"
      }
    },
    {
      "cell_type": "markdown",
      "source": [
        " This small section imports data from kaggle since it is already formatted."
      ],
      "metadata": {
        "id": "tFNWSL8F8vmE"
      }
    },
    {
      "cell_type": "code",
      "source": [
        "# Install dependencies as needed:\n",
        "# pip install kagglehub[pandas-datasets]\n",
        "import kagglehub\n",
        "from kagglehub import KaggleDatasetAdapter\n",
        "\n",
        "# Set the path to the file you'd like to load\n",
        "file_path = \"uci-secom.csv\"\n",
        "\n",
        "# Load the latest version\n",
        "df = kagglehub.load_dataset(\n",
        "  KaggleDatasetAdapter.PANDAS,\n",
        "  \"paresh2047/uci-semcom\",\n",
        "  file_path\n",
        "  # Provide any additional arguments like\n",
        "  # sql_query or pandas_kwargs. See the\n",
        "  # documenation for more information:\n",
        "  # https://github.com/Kaggle/kagglehub/blob/main/README.md#kaggledatasetadapterpandas\n",
        ")\n",
        "\n",
        "print(\"First 5 records:\")\n",
        "print(df.head())\n",
        "print(\"Nayyer Here:\")"
      ],
      "metadata": {
        "id": "TKXho8--1RID",
        "outputId": "c3315c35-ae26-4947-c764-876c795ddb42",
        "colab": {
          "base_uri": "https://localhost:8080/"
        }
      },
      "execution_count": null,
      "outputs": [
        {
          "output_type": "stream",
          "name": "stderr",
          "text": [
            "<ipython-input-2-b6194b50d4eb>:10: DeprecationWarning: load_dataset is deprecated and will be removed in future version.\n",
            "  df = kagglehub.load_dataset(\n"
          ]
        },
        {
          "output_type": "stream",
          "name": "stdout",
          "text": [
            "First 5 records:\n",
            "                  Time        0        1          2          3       4      5  \\\n",
            "0  2008-07-19 11:55:00  3030.93  2564.00  2187.7333  1411.1265  1.3602  100.0   \n",
            "1  2008-07-19 12:32:00  3095.78  2465.14  2230.4222  1463.6606  0.8294  100.0   \n",
            "2  2008-07-19 13:17:00  2932.61  2559.94  2186.4111  1698.0172  1.5102  100.0   \n",
            "3  2008-07-19 14:43:00  2988.72  2479.90  2199.0333   909.7926  1.3204  100.0   \n",
            "4  2008-07-19 15:22:00  3032.24  2502.87  2233.3667  1326.5200  1.5334  100.0   \n",
            "\n",
            "          6       7       8  ...       581     582     583     584      585  \\\n",
            "0   97.6133  0.1242  1.5005  ...       NaN  0.5005  0.0118  0.0035   2.3630   \n",
            "1  102.3433  0.1247  1.4966  ...  208.2045  0.5019  0.0223  0.0055   4.4447   \n",
            "2   95.4878  0.1241  1.4436  ...   82.8602  0.4958  0.0157  0.0039   3.1745   \n",
            "3  104.2367  0.1217  1.4882  ...   73.8432  0.4990  0.0103  0.0025   2.0544   \n",
            "4  100.3967  0.1235  1.5031  ...       NaN  0.4800  0.4766  0.1045  99.3032   \n",
            "\n",
            "      586     587     588       589  Pass/Fail  \n",
            "0     NaN     NaN     NaN       NaN         -1  \n",
            "1  0.0096  0.0201  0.0060  208.2045         -1  \n",
            "2  0.0584  0.0484  0.0148   82.8602          1  \n",
            "3  0.0202  0.0149  0.0044   73.8432         -1  \n",
            "4  0.0202  0.0149  0.0044   73.8432         -1  \n",
            "\n",
            "[5 rows x 592 columns]\n",
            "Nayyer Here:\n"
          ]
        }
      ]
    },
    {
      "cell_type": "code",
      "source": [
        "print(\"Hello world!\")"
      ],
      "metadata": {
        "id": "U9fHtnFH82Ts",
        "outputId": "f28c50a7-78f1-4775-fd2e-f57d644a5843",
        "colab": {
          "base_uri": "https://localhost:8080/"
        }
      },
      "execution_count": null,
      "outputs": [
        {
          "output_type": "stream",
          "name": "stdout",
          "text": [
            "Hello world!\n"
          ]
        }
      ]
    },
    {
      "cell_type": "code",
      "source": [
        "print(\"Hello everybody, this is a test\")"
      ],
      "metadata": {
        "id": "AeA8mcGpMlgR",
        "outputId": "c09b0251-2065-4deb-8964-799f22b0ff7d",
        "colab": {
          "base_uri": "https://localhost:8080/"
        }
      },
      "execution_count": null,
      "outputs": [
        {
          "output_type": "stream",
          "name": "stdout",
          "text": [
            "Hello everybody, this is a test\n"
          ]
        }
      ]
    },
    {
      "cell_type": "markdown",
      "source": [
        "# Initial descriptive statistics\n",
        "## How many -1s and 1s?\n"
      ],
      "metadata": {
        "id": "7c5Ys2Gl4ipn"
      }
    },
    {
      "cell_type": "code",
      "source": [
        "print('Hi Pavani here')"
      ],
      "metadata": {
        "id": "yURCcfbhQG-w",
        "outputId": "963be984-448d-40ef-c6ad-25bcb4be47b1",
        "colab": {
          "base_uri": "https://localhost:8080/"
        }
      },
      "execution_count": 4,
      "outputs": [
        {
          "output_type": "stream",
          "name": "stdout",
          "text": [
            "Hi Pavani here\n"
          ]
        }
      ]
    }
  ],
  "metadata": {
    "colab": {
      "provenance": [],
      "toc_visible": true
    },
    "language_info": {
      "name": "python"
    },
    "kernelspec": {
      "name": "python3",
      "display_name": "Python 3"
    }
  },
  "nbformat": 4,
  "nbformat_minor": 0
}